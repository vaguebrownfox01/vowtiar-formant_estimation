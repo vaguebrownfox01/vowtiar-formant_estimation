{
 "cells": [
  {
   "cell_type": "code",
   "execution_count": 3,
   "metadata": {},
   "outputs": [],
   "source": [
    "import librosa\n",
    "import subprocess\n",
    "import pandas as pd\n",
    "import os\n",
    "import glob\n",
    "import wave\n",
    "import numpy as np\n",
    "from sklearn import metrics"
   ]
  },
  {
   "cell_type": "code",
   "execution_count": 2,
   "metadata": {},
   "outputs": [],
   "source": [
    "def get_deepformants(audio_file, begin, end):\n",
    "    proc = subprocess.check_output('/home/jeevan/dev/anaconda3/envs/pytorch/bin/python formants.py ' + audio_file + ' /home/jeevan/Desktop/DeepFormants/test.csv --begin ' +  str(begin) + ' --end ' + str(end), cwd=\"/home/jeevan/Desktop/DeepFormants/\", shell=True)\n",
    "    df = pd.read_csv(\"/home/jeevan/Desktop/DeepFormants/test.csv\")\n",
    "    return df.iloc[0,1:].tolist()"
   ]
  },
  {
   "cell_type": "code",
   "execution_count": 3,
   "metadata": {},
   "outputs": [
    {
     "name": "stderr",
     "output_type": "stream",
     "text": [
      "/home/jeevan/Jeevan_K/Projects/Asquire/Vowtiar-Quest/DeepFormants/extract_features.py:270: RuntimeWarning: invalid value encountered in log10\n",
      "  mspec = np.log10(peri)\n"
     ]
    },
    {
     "data": {
      "text/plain": [
       "[143.40967433995, 53.674720506779, 956.85167169666, 2468.1261476407]"
      ]
     },
     "execution_count": 3,
     "metadata": {},
     "output_type": "execute_result"
    }
   ],
   "source": [
    "get_deepformants('/home/jeevan/Jeevan_K/Projects/Asquire/Vowtiar-Quest/vowtiar-formant_estimation/audio_exports/vowlim10/ux_291_FTBW0_F_190.wav', 0.35, 1.35)"
   ]
  },
  {
   "cell_type": "code",
   "execution_count": 6,
   "metadata": {},
   "outputs": [
    {
     "ename": "Error",
     "evalue": "unknown format: 3",
     "output_type": "error",
     "traceback": [
      "\u001b[0;31m---------------------------------------------------------------------------\u001b[0m",
      "\u001b[0;31mError\u001b[0m                                     Traceback (most recent call last)",
      "\u001b[0;32m/tmp/ipykernel_18928/2647889488.py\u001b[0m in \u001b[0;36m<module>\u001b[0;34m\u001b[0m\n\u001b[0;32m----> 1\u001b[0;31m \u001b[0mwav_in_file\u001b[0m \u001b[0;34m=\u001b[0m \u001b[0mwave\u001b[0m\u001b[0;34m.\u001b[0m\u001b[0mWave_read\u001b[0m\u001b[0;34m(\u001b[0m\u001b[0;34m'/home/jeevan/Jeevan_K/Projects/Asquire/Vowtiar-Quest/vowtiar-formant_estimation/audio_exports/vowlim10/ux_291_FTBW0_F_190.wav'\u001b[0m\u001b[0;34m)\u001b[0m\u001b[0;34m\u001b[0m\u001b[0;34m\u001b[0m\u001b[0m\n\u001b[0m\u001b[1;32m      2\u001b[0m \u001b[0;34m\u001b[0m\u001b[0m\n\u001b[1;32m      3\u001b[0m \u001b[0mwav_in_num_samples\u001b[0m \u001b[0;34m=\u001b[0m \u001b[0mwav_in_file\u001b[0m\u001b[0;34m.\u001b[0m\u001b[0mgetnframes\u001b[0m\u001b[0;34m(\u001b[0m\u001b[0;34m)\u001b[0m\u001b[0;34m\u001b[0m\u001b[0;34m\u001b[0m\u001b[0m\n\u001b[1;32m      4\u001b[0m \u001b[0mN\u001b[0m \u001b[0;34m=\u001b[0m \u001b[0mwav_in_file\u001b[0m\u001b[0;34m.\u001b[0m\u001b[0mgetnframes\u001b[0m\u001b[0;34m(\u001b[0m\u001b[0;34m)\u001b[0m\u001b[0;34m\u001b[0m\u001b[0;34m\u001b[0m\u001b[0m\n\u001b[1;32m      5\u001b[0m \u001b[0mdstr\u001b[0m \u001b[0;34m=\u001b[0m \u001b[0mwav_in_file\u001b[0m\u001b[0;34m.\u001b[0m\u001b[0mreadframes\u001b[0m\u001b[0;34m(\u001b[0m\u001b[0mN\u001b[0m\u001b[0;34m)\u001b[0m\u001b[0;34m\u001b[0m\u001b[0;34m\u001b[0m\u001b[0m\n",
      "\u001b[0;32m~/dev/anaconda3/lib/python3.9/wave.py\u001b[0m in \u001b[0;36m__init__\u001b[0;34m(self, f)\u001b[0m\n\u001b[1;32m    161\u001b[0m         \u001b[0;31m# else, assume it is an open file object already\u001b[0m\u001b[0;34m\u001b[0m\u001b[0;34m\u001b[0m\u001b[0m\n\u001b[1;32m    162\u001b[0m         \u001b[0;32mtry\u001b[0m\u001b[0;34m:\u001b[0m\u001b[0;34m\u001b[0m\u001b[0;34m\u001b[0m\u001b[0m\n\u001b[0;32m--> 163\u001b[0;31m             \u001b[0mself\u001b[0m\u001b[0;34m.\u001b[0m\u001b[0minitfp\u001b[0m\u001b[0;34m(\u001b[0m\u001b[0mf\u001b[0m\u001b[0;34m)\u001b[0m\u001b[0;34m\u001b[0m\u001b[0;34m\u001b[0m\u001b[0m\n\u001b[0m\u001b[1;32m    164\u001b[0m         \u001b[0;32mexcept\u001b[0m\u001b[0;34m:\u001b[0m\u001b[0;34m\u001b[0m\u001b[0;34m\u001b[0m\u001b[0m\n\u001b[1;32m    165\u001b[0m             \u001b[0;32mif\u001b[0m \u001b[0mself\u001b[0m\u001b[0;34m.\u001b[0m\u001b[0m_i_opened_the_file\u001b[0m\u001b[0;34m:\u001b[0m\u001b[0;34m\u001b[0m\u001b[0;34m\u001b[0m\u001b[0m\n",
      "\u001b[0;32m~/dev/anaconda3/lib/python3.9/wave.py\u001b[0m in \u001b[0;36minitfp\u001b[0;34m(self, file)\u001b[0m\n\u001b[1;32m    141\u001b[0m             \u001b[0mchunkname\u001b[0m \u001b[0;34m=\u001b[0m \u001b[0mchunk\u001b[0m\u001b[0;34m.\u001b[0m\u001b[0mgetname\u001b[0m\u001b[0;34m(\u001b[0m\u001b[0;34m)\u001b[0m\u001b[0;34m\u001b[0m\u001b[0;34m\u001b[0m\u001b[0m\n\u001b[1;32m    142\u001b[0m             \u001b[0;32mif\u001b[0m \u001b[0mchunkname\u001b[0m \u001b[0;34m==\u001b[0m \u001b[0;34mb'fmt '\u001b[0m\u001b[0;34m:\u001b[0m\u001b[0;34m\u001b[0m\u001b[0;34m\u001b[0m\u001b[0m\n\u001b[0;32m--> 143\u001b[0;31m                 \u001b[0mself\u001b[0m\u001b[0;34m.\u001b[0m\u001b[0m_read_fmt_chunk\u001b[0m\u001b[0;34m(\u001b[0m\u001b[0mchunk\u001b[0m\u001b[0;34m)\u001b[0m\u001b[0;34m\u001b[0m\u001b[0;34m\u001b[0m\u001b[0m\n\u001b[0m\u001b[1;32m    144\u001b[0m                 \u001b[0mself\u001b[0m\u001b[0;34m.\u001b[0m\u001b[0m_fmt_chunk_read\u001b[0m \u001b[0;34m=\u001b[0m \u001b[0;36m1\u001b[0m\u001b[0;34m\u001b[0m\u001b[0;34m\u001b[0m\u001b[0m\n\u001b[1;32m    145\u001b[0m             \u001b[0;32melif\u001b[0m \u001b[0mchunkname\u001b[0m \u001b[0;34m==\u001b[0m \u001b[0;34mb'data'\u001b[0m\u001b[0;34m:\u001b[0m\u001b[0;34m\u001b[0m\u001b[0;34m\u001b[0m\u001b[0m\n",
      "\u001b[0;32m~/dev/anaconda3/lib/python3.9/wave.py\u001b[0m in \u001b[0;36m_read_fmt_chunk\u001b[0;34m(self, chunk)\u001b[0m\n\u001b[1;32m    266\u001b[0m                 \u001b[0;32mraise\u001b[0m \u001b[0mError\u001b[0m\u001b[0;34m(\u001b[0m\u001b[0;34m'bad sample width'\u001b[0m\u001b[0;34m)\u001b[0m\u001b[0;34m\u001b[0m\u001b[0;34m\u001b[0m\u001b[0m\n\u001b[1;32m    267\u001b[0m         \u001b[0;32melse\u001b[0m\u001b[0;34m:\u001b[0m\u001b[0;34m\u001b[0m\u001b[0;34m\u001b[0m\u001b[0m\n\u001b[0;32m--> 268\u001b[0;31m             \u001b[0;32mraise\u001b[0m \u001b[0mError\u001b[0m\u001b[0;34m(\u001b[0m\u001b[0;34m'unknown format: %r'\u001b[0m \u001b[0;34m%\u001b[0m \u001b[0;34m(\u001b[0m\u001b[0mwFormatTag\u001b[0m\u001b[0;34m,\u001b[0m\u001b[0;34m)\u001b[0m\u001b[0;34m)\u001b[0m\u001b[0;34m\u001b[0m\u001b[0;34m\u001b[0m\u001b[0m\n\u001b[0m\u001b[1;32m    269\u001b[0m         \u001b[0;32mif\u001b[0m \u001b[0;32mnot\u001b[0m \u001b[0mself\u001b[0m\u001b[0;34m.\u001b[0m\u001b[0m_nchannels\u001b[0m\u001b[0;34m:\u001b[0m\u001b[0;34m\u001b[0m\u001b[0;34m\u001b[0m\u001b[0m\n\u001b[1;32m    270\u001b[0m             \u001b[0;32mraise\u001b[0m \u001b[0mError\u001b[0m\u001b[0;34m(\u001b[0m\u001b[0;34m'bad # of channels'\u001b[0m\u001b[0;34m)\u001b[0m\u001b[0;34m\u001b[0m\u001b[0;34m\u001b[0m\u001b[0m\n",
      "\u001b[0;31mError\u001b[0m: unknown format: 3"
     ]
    }
   ],
   "source": [
    "wav_in_file = wave.Wave_read('/home/jeevan/Jeevan_K/Projects/Asquire/Vowtiar-Quest/vowtiar-formant_estimation/audio_exports/vowlim10/ux_291_FTBW0_F_190.wav')\n",
    "\n",
    "wav_in_num_samples = wav_in_file.getnframes()\n",
    "N = wav_in_file.getnframes()\n",
    "dstr = wav_in_file.readframes(N)\n",
    "data = np.fromstring(dstr, np.int16)"
   ]
  },
  {
   "cell_type": "code",
   "execution_count": 2,
   "metadata": {},
   "outputs": [],
   "source": [
    "df = pd.read_csv(\"/home/jeevan/Desktop/Jeevan_K/Projects/Asquire/Vowtiar-Quest/vowtiar-formant_estimation/exports/e_synth-vowels_formant_estimation_vowlim10.csv\")"
   ]
  },
  {
   "cell_type": "code",
   "execution_count": 3,
   "metadata": {},
   "outputs": [],
   "source": [
    "vowels = list(set(df[\"vowel_name\"].tolist()))\n",
    "genders = list(set(df[\"sex\"].tolist()))"
   ]
  },
  {
   "cell_type": "code",
   "execution_count": 6,
   "metadata": {},
   "outputs": [],
   "source": [
    "metrics_dict = {\n",
    "    \"vowel_name\": [],\n",
    "    \"sex\": [],\n",
    "    \"F1_praat_rms\": [],\n",
    "    \"F2_praat_rms\": [],\n",
    "    \"F3_praat_rms\": [],\n",
    "    \"F1_deepformant_rms\": [],\n",
    "    \"F2_deepformant_rms\": [],\n",
    "    \"F3_deepformant_rms\": [],\n",
    "\n",
    "}\n",
    "\n",
    "for vowel in vowels:\n",
    "    for gender in genders:\n",
    "        f1_gt = df[(df[\"vowel_name\"] == vowel) & (df[\"sex\"] == gender)][\"F1_mean_praat_base\"]\n",
    "        f2_gt = df[(df[\"vowel_name\"] == vowel) & (df[\"sex\"] == gender)][\"F2_mean_praat_base\"]\n",
    "        f3_gt = df[(df[\"vowel_name\"] == vowel) & (df[\"sex\"] == gender)][\"F3_mean_praat_base\"]\n",
    "\n",
    "        f1_praat = df[(df[\"vowel_name\"] == vowel) & (df[\"sex\"] == gender)][\"F1_mean_synthvow_praat\"]\n",
    "        f2_praat = df[(df[\"vowel_name\"] == vowel) & (df[\"sex\"] == gender)][\"F2_mean_synthvow_praat\"]\n",
    "        f3_praat = df[(df[\"vowel_name\"] == vowel) & (df[\"sex\"] == gender)][\"F3_mean_synthvow_praat\"]\n",
    "\n",
    "        f1_deep = df[(df[\"vowel_name\"] == vowel) & (df[\"sex\"] == gender)][\"F1_mean_synthvow_deepformant\"]\n",
    "        f2_deep = df[(df[\"vowel_name\"] == vowel) & (df[\"sex\"] == gender)][\"F2_mean_synthvow_deepformant\"]\n",
    "        f3_deep = df[(df[\"vowel_name\"] == vowel) & (df[\"sex\"] == gender)][\"F3_mean_synthvow_deepformant\"]\n",
    "\n",
    "        metrics_dict[\"vowel_name\"].append(vowel)\n",
    "        metrics_dict[\"sex\"].append(gender)\n",
    "        metrics_dict[\"F1_praat_rms\"].append(metrics.mean_squared_error(f1_gt, f1_praat, squared=False))\n",
    "        metrics_dict[\"F2_praat_rms\"].append(metrics.mean_squared_error(f2_gt, f2_praat, squared=False))\n",
    "        metrics_dict[\"F3_praat_rms\"].append(metrics.mean_squared_error(f3_gt, f3_praat, squared=False))\n",
    "\n",
    "        metrics_dict[\"F1_deepformant_rms\"].append(metrics.mean_squared_error(f1_gt, f1_deep, squared=False))\n",
    "        metrics_dict[\"F2_deepformant_rms\"].append(metrics.mean_squared_error(f2_gt, f2_deep, squared=False))\n",
    "        metrics_dict[\"F3_deepformant_rms\"].append(metrics.mean_squared_error(f3_gt, f3_deep, squared=False))\n",
    "\n",
    "\n",
    "df_metrics = pd.DataFrame(metrics_dict)\n",
    "\n",
    "        \n",
    "\n"
   ]
  },
  {
   "cell_type": "code",
   "execution_count": 7,
   "metadata": {},
   "outputs": [],
   "source": [
    "df_metrics.to_csv(\"/home/jeevan/Desktop/Jeevan_K/Projects/Asquire/Vowtiar-Quest/vowtiar-formant_estimation/exports/e_synth-vowels_metrics.csv\", index=False)"
   ]
  },
  {
   "cell_type": "markdown",
   "metadata": {},
   "source": [
    "## Noisey"
   ]
  },
  {
   "cell_type": "code",
   "execution_count": 4,
   "metadata": {},
   "outputs": [],
   "source": [
    "import librosa\n",
    "\n",
    "aud_path = \"/home/jeevan/Jeevan_K/Projects/Asquire/Vowtiar-Quest/vowtiar-formant_estimation/audio_exports/vowlim500/aa_3184_MRLJ1_M_123.wav\"\n",
    "\n",
    "audio, fs = librosa.load(aud_path, sr=None)"
   ]
  },
  {
   "cell_type": "code",
   "execution_count": 5,
   "metadata": {},
   "outputs": [
    {
     "data": {
      "text/plain": [
       "array([ 0.01235663, -0.00544755,  0.00835444, ...,  0.0066661 ,\n",
       "        0.00302996, -0.00151505])"
      ]
     },
     "execution_count": 5,
     "metadata": {},
     "output_type": "execute_result"
    }
   ],
   "source": [
    "y = audio +  0.01 * np.random.normal(0, 1, len(audio)); y"
   ]
  },
  {
   "cell_type": "code",
   "execution_count": 8,
   "metadata": {},
   "outputs": [],
   "source": [
    "import scipy\n",
    "import soundfile as sf\n",
    "\n",
    "sf.write(f\"./audio_exports/temp/noise_{'aa_3184_MRLJ1_M_123.wav'}\", y, fs)"
   ]
  },
  {
   "cell_type": "code",
   "execution_count": 9,
   "metadata": {},
   "outputs": [
    {
     "name": "stdout",
     "output_type": "stream",
     "text": [
      "(16000, 1)\n",
      "(27200, 1)\n",
      "(43199, 1)\n"
     ]
    }
   ],
   "source": [
    "import numpy as np\n",
    "import scipy.signal as ss\n",
    "import soundfile as sf\n",
    "import rir_generator as rir\n",
    "\n",
    "signal, fs = sf.read(aud_path, always_2d=True)\n",
    "\n",
    "h = rir.generate(\n",
    "    c=340,                  # Sound velocity (m/s)\n",
    "    fs=fs,                  # Sample frequency (samples/s)\n",
    "    r=[                     # Receiver position(s) [x y z] (m)\n",
    "        [2, 1.5, 1],\n",
    "    ],\n",
    "    s=[2, 3.5, 2],          # Source position [x y z] (m)\n",
    "    L=[5, 4, 6],            # Room dimensions [x y z] (m)\n",
    "    reverberation_time=0.4, # Reverberation time (s)\n",
    "    nsample=16000,           # Number of output samples\n",
    ")\n",
    "\n",
    "print(h.shape)              # (4096, 3)\n",
    "print(signal.shape)         # (11462, 2)\n",
    "\n",
    "# Convolve 2-channel signal with 3 impulse responses\n",
    "signal = ss.convolve(h, signal)\n",
    "\n",
    "print(signal.shape)         # (15557, 2, 3)"
   ]
  },
  {
   "cell_type": "code",
   "execution_count": 10,
   "metadata": {},
   "outputs": [],
   "source": [
    "signal_f = signal.T.flatten()\n",
    "h_f = h.T.flatten()\n",
    "sf.write(f\"./audio_exports/temp/rvb_{'aa_3184_MRLJ1_M_123.wav'}\", signal_f, fs)\n",
    "sf.write(f\"./audio_exports/temp/h_{'aa_3184_MRLJ1_M_123.wav'}\",h_f, fs)\n",
    "\n"
   ]
  },
  {
   "cell_type": "code",
   "execution_count": 1,
   "metadata": {},
   "outputs": [],
   "source": []
  },
  {
   "cell_type": "code",
   "execution_count": 9,
   "metadata": {},
   "outputs": [],
   "source": [
    "import pandas as pd\n",
    "import numpy as np\n",
    "import scipy.io\n",
    "import os\n",
    "\n",
    "\n"
   ]
  },
  {
   "cell_type": "code",
   "execution_count": 18,
   "metadata": {},
   "outputs": [],
   "source": [
    "mat_filenames = os.listdir(\"/home/jeevan/Jeevan_K/Projects/Asquire/Vowtiar-Quest/vowtiar-formant_estimation/matlab/exports\")\n",
    "df = pd.read_csv(\"/home/jeevan/Jeevan_K/Projects/Asquire/Vowtiar-Quest/vowtiar-formant_estimation/exports/e_synth-vowels_formant_estimation_vowlim500.csv\")\n"
   ]
  },
  {
   "cell_type": "code",
   "execution_count": 19,
   "metadata": {},
   "outputs": [
    {
     "name": "stderr",
     "output_type": "stream",
     "text": [
      "/home/jeevan/dev/anaconda3/envs/pytorch/lib/python3.9/site-packages/pandas/core/indexing.py:1732: SettingWithCopyWarning: \n",
      "A value is trying to be set on a copy of a slice from a DataFrame\n",
      "\n",
      "See the caveats in the documentation: https://pandas.pydata.org/pandas-docs/stable/user_guide/indexing.html#returning-a-view-versus-a-copy\n",
      "  self._setitem_single_block(indexer, value, name)\n"
     ]
    }
   ],
   "source": [
    "max_peaks = 0\n",
    "\n",
    "df[\"F1_nearest_ZZT\"] = np.nan\n",
    "df[\"F2_nearest_ZZT\"] = np.nan\n",
    "df[\"F3_nearest_ZZT\"] = np.nan\n",
    "\n",
    "for i,row in df.iterrows():\n",
    "    mat = scipy.io.loadmat('/home/jeevan/Jeevan_K/Projects/Asquire/Vowtiar-Quest/vowtiar-formant_estimation/matlab/exports/' + row[\"synth_vowel_path\"].split(\"/\")[-1][0:-3] + \"mat\")\n",
    "    peaks = mat[\"peak_freqs\"]\n",
    "    max_peaks = max(max_peaks,peaks.shape[-1])\n",
    "\n",
    "    F1 = float(row[\"F1_mean_praat_base\"])\n",
    "    F2 = float(row[\"F2_mean_praat_base\"])\n",
    "    F3 = float(row[\"F3_mean_praat_base\"])\n",
    "    df[\"F1_nearest_ZZT\"].iloc[i] = peaks[0,np.argmin(abs(peaks-F1))]\n",
    "    df[\"F2_nearest_ZZT\"].iloc[i] = peaks[0,np.argmin(abs(peaks-F2))]\n",
    "    df[\"F3_nearest_ZZT\"].iloc[i]= peaks[0,np.argmin(abs(peaks-F3))]\n",
    "  \n",
    "\n"
   ]
  },
  {
   "cell_type": "code",
   "execution_count": 20,
   "metadata": {},
   "outputs": [],
   "source": [
    "df.to_csv(\"/home/jeevan/Jeevan_K/Projects/Asquire/Vowtiar-Quest/vowtiar-formant_estimation/exports/f_synth-vowels_formant_estimation_vowlim500.csv\")"
   ]
  },
  {
   "cell_type": "code",
   "execution_count": 25,
   "metadata": {},
   "outputs": [
    {
     "name": "stdout",
     "output_type": "stream",
     "text": [
      "1527.3553372309293\n",
      "14211.565207738831\n",
      "2681.4364685244104\n",
      "\n",
      "571742.9314954737\n",
      "55163.63895601873\n",
      "3562.3335819519602\n",
      "\n",
      "1012251.0690735125\n",
      "51770.6748088899\n",
      "3705.230127078363\n",
      "\n"
     ]
    }
   ],
   "source": [
    "from sklearn import metrics\n",
    "for i in range(3):\n",
    "    print(metrics.mean_squared_error(df[\"F\" + str(i+1) + \"_mean_praat_base\"], df[\"F\" + str(i+1) + \"_mean_synthvow_praat\"]))\n",
    "    print(metrics.mean_squared_error(df[\"F\" + str(i+1) + \"_mean_praat_base\"], df[\"F\" + str(i+1) + \"_mean_synthvow_deepformant\"]))\n",
    "    print(metrics.mean_squared_error(df[\"F\" + str(i+1) + \"_mean_praat_base\"], df[\"F\" + str(i+1) + \"_nearest_ZZT\"]))\n",
    "    print()\n"
   ]
  }
 ],
 "metadata": {
  "kernelspec": {
   "display_name": "Python 3.9.7 ('pytorch')",
   "language": "python",
   "name": "python3"
  },
  "language_info": {
   "codemirror_mode": {
    "name": "ipython",
    "version": 3
   },
   "file_extension": ".py",
   "mimetype": "text/x-python",
   "name": "python",
   "nbconvert_exporter": "python",
   "pygments_lexer": "ipython3",
   "version": "3.9.7"
  },
  "orig_nbformat": 4,
  "vscode": {
   "interpreter": {
    "hash": "551933d52e43033e2fc8371ff9c262d4dc28c522c972d519e079bc9464f5316c"
   }
  }
 },
 "nbformat": 4,
 "nbformat_minor": 2
}
