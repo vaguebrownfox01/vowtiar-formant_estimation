{
 "cells": [
  {
   "cell_type": "code",
   "execution_count": 1,
   "metadata": {},
   "outputs": [],
   "source": [
    "import librosa\n",
    "import subprocess\n",
    "import pandas as pd\n",
    "import os\n",
    "import glob"
   ]
  },
  {
   "cell_type": "code",
   "execution_count": 2,
   "metadata": {},
   "outputs": [],
   "source": [
    "def get_deepformants(audio_file, begin, end):\n",
    "    proc = subprocess.check_output('/home/jeevan/dev/anaconda3/envs/pytorch/bin/python formants.py ' + audio_file + ' /home/jeevan/Desktop/DeepFormants/test.csv --begin ' +  str(begin) + ' --end ' + str(end), cwd=\"/home/jeevan/Desktop/DeepFormants/\", shell=True)\n",
    "    df = pd.read_csv(\"/home/jeevan/Desktop/DeepFormants/test.csv\")\n",
    "    return df.iloc[0,1:].tolist()"
   ]
  },
  {
   "cell_type": "code",
   "execution_count": 3,
   "metadata": {},
   "outputs": [
    {
     "name": "stderr",
     "output_type": "stream",
     "text": [
      "/home/jeevan/Jeevan_K/Projects/Asquire/Vowtiar-Quest/DeepFormants/extract_features.py:270: RuntimeWarning: invalid value encountered in log10\n",
      "  mspec = np.log10(peri)\n"
     ]
    },
    {
     "data": {
      "text/plain": [
       "[143.40967433995, 53.674720506779, 956.85167169666, 2468.1261476407]"
      ]
     },
     "execution_count": 3,
     "metadata": {},
     "output_type": "execute_result"
    }
   ],
   "source": [
    "get_deepformants('/home/jeevan/Jeevan_K/Projects/Asquire/Vowtiar-Quest/vowtiar-formant_estimation/audio_exports/vowlim10/ux_291_FTBW0_F_190.wav', 0.35, 1.35)"
   ]
  }
 ],
 "metadata": {
  "kernelspec": {
   "display_name": "Python 3.9.7 ('base')",
   "language": "python",
   "name": "python3"
  },
  "language_info": {
   "codemirror_mode": {
    "name": "ipython",
    "version": 3
   },
   "file_extension": ".py",
   "mimetype": "text/x-python",
   "name": "python",
   "nbconvert_exporter": "python",
   "pygments_lexer": "ipython3",
   "version": "3.9.7"
  },
  "orig_nbformat": 4,
  "vscode": {
   "interpreter": {
    "hash": "85fb90aac59f57c94624cc69509cd9000efdbf1546001975143f0671c90158a0"
   }
  }
 },
 "nbformat": 4,
 "nbformat_minor": 2
}
