{
 "cells": [
  {
   "cell_type": "code",
   "execution_count": 4,
   "metadata": {},
   "outputs": [],
   "source": [
    "import librosa\n",
    "import subprocess\n",
    "import pandas as pd\n",
    "import os\n",
    "import glob\n",
    "import wave\n",
    "import numpy as np\n",
    "from sklearn import metrics"
   ]
  },
  {
   "cell_type": "code",
   "execution_count": 2,
   "metadata": {},
   "outputs": [],
   "source": [
    "def get_deepformants(audio_file, begin, end):\n",
    "    proc = subprocess.check_output('/home/jeevan/dev/anaconda3/envs/pytorch/bin/python formants.py ' + audio_file + ' /home/jeevan/Desktop/DeepFormants/test.csv --begin ' +  str(begin) + ' --end ' + str(end), cwd=\"/home/jeevan/Desktop/DeepFormants/\", shell=True)\n",
    "    df = pd.read_csv(\"/home/jeevan/Desktop/DeepFormants/test.csv\")\n",
    "    return df.iloc[0,1:].tolist()"
   ]
  },
  {
   "cell_type": "code",
   "execution_count": 3,
   "metadata": {},
   "outputs": [
    {
     "name": "stderr",
     "output_type": "stream",
     "text": [
      "/home/jeevan/Jeevan_K/Projects/Asquire/Vowtiar-Quest/DeepFormants/extract_features.py:270: RuntimeWarning: invalid value encountered in log10\n",
      "  mspec = np.log10(peri)\n"
     ]
    },
    {
     "data": {
      "text/plain": [
       "[143.40967433995, 53.674720506779, 956.85167169666, 2468.1261476407]"
      ]
     },
     "execution_count": 3,
     "metadata": {},
     "output_type": "execute_result"
    }
   ],
   "source": [
    "get_deepformants('/home/jeevan/Jeevan_K/Projects/Asquire/Vowtiar-Quest/vowtiar-formant_estimation/audio_exports/vowlim10/ux_291_FTBW0_F_190.wav', 0.35, 1.35)"
   ]
  },
  {
   "cell_type": "code",
   "execution_count": 6,
   "metadata": {},
   "outputs": [
    {
     "ename": "Error",
     "evalue": "unknown format: 3",
     "output_type": "error",
     "traceback": [
      "\u001b[0;31m---------------------------------------------------------------------------\u001b[0m",
      "\u001b[0;31mError\u001b[0m                                     Traceback (most recent call last)",
      "\u001b[0;32m/tmp/ipykernel_18928/2647889488.py\u001b[0m in \u001b[0;36m<module>\u001b[0;34m\u001b[0m\n\u001b[0;32m----> 1\u001b[0;31m \u001b[0mwav_in_file\u001b[0m \u001b[0;34m=\u001b[0m \u001b[0mwave\u001b[0m\u001b[0;34m.\u001b[0m\u001b[0mWave_read\u001b[0m\u001b[0;34m(\u001b[0m\u001b[0;34m'/home/jeevan/Jeevan_K/Projects/Asquire/Vowtiar-Quest/vowtiar-formant_estimation/audio_exports/vowlim10/ux_291_FTBW0_F_190.wav'\u001b[0m\u001b[0;34m)\u001b[0m\u001b[0;34m\u001b[0m\u001b[0;34m\u001b[0m\u001b[0m\n\u001b[0m\u001b[1;32m      2\u001b[0m \u001b[0;34m\u001b[0m\u001b[0m\n\u001b[1;32m      3\u001b[0m \u001b[0mwav_in_num_samples\u001b[0m \u001b[0;34m=\u001b[0m \u001b[0mwav_in_file\u001b[0m\u001b[0;34m.\u001b[0m\u001b[0mgetnframes\u001b[0m\u001b[0;34m(\u001b[0m\u001b[0;34m)\u001b[0m\u001b[0;34m\u001b[0m\u001b[0;34m\u001b[0m\u001b[0m\n\u001b[1;32m      4\u001b[0m \u001b[0mN\u001b[0m \u001b[0;34m=\u001b[0m \u001b[0mwav_in_file\u001b[0m\u001b[0;34m.\u001b[0m\u001b[0mgetnframes\u001b[0m\u001b[0;34m(\u001b[0m\u001b[0;34m)\u001b[0m\u001b[0;34m\u001b[0m\u001b[0;34m\u001b[0m\u001b[0m\n\u001b[1;32m      5\u001b[0m \u001b[0mdstr\u001b[0m \u001b[0;34m=\u001b[0m \u001b[0mwav_in_file\u001b[0m\u001b[0;34m.\u001b[0m\u001b[0mreadframes\u001b[0m\u001b[0;34m(\u001b[0m\u001b[0mN\u001b[0m\u001b[0;34m)\u001b[0m\u001b[0;34m\u001b[0m\u001b[0;34m\u001b[0m\u001b[0m\n",
      "\u001b[0;32m~/dev/anaconda3/lib/python3.9/wave.py\u001b[0m in \u001b[0;36m__init__\u001b[0;34m(self, f)\u001b[0m\n\u001b[1;32m    161\u001b[0m         \u001b[0;31m# else, assume it is an open file object already\u001b[0m\u001b[0;34m\u001b[0m\u001b[0;34m\u001b[0m\u001b[0m\n\u001b[1;32m    162\u001b[0m         \u001b[0;32mtry\u001b[0m\u001b[0;34m:\u001b[0m\u001b[0;34m\u001b[0m\u001b[0;34m\u001b[0m\u001b[0m\n\u001b[0;32m--> 163\u001b[0;31m             \u001b[0mself\u001b[0m\u001b[0;34m.\u001b[0m\u001b[0minitfp\u001b[0m\u001b[0;34m(\u001b[0m\u001b[0mf\u001b[0m\u001b[0;34m)\u001b[0m\u001b[0;34m\u001b[0m\u001b[0;34m\u001b[0m\u001b[0m\n\u001b[0m\u001b[1;32m    164\u001b[0m         \u001b[0;32mexcept\u001b[0m\u001b[0;34m:\u001b[0m\u001b[0;34m\u001b[0m\u001b[0;34m\u001b[0m\u001b[0m\n\u001b[1;32m    165\u001b[0m             \u001b[0;32mif\u001b[0m \u001b[0mself\u001b[0m\u001b[0;34m.\u001b[0m\u001b[0m_i_opened_the_file\u001b[0m\u001b[0;34m:\u001b[0m\u001b[0;34m\u001b[0m\u001b[0;34m\u001b[0m\u001b[0m\n",
      "\u001b[0;32m~/dev/anaconda3/lib/python3.9/wave.py\u001b[0m in \u001b[0;36minitfp\u001b[0;34m(self, file)\u001b[0m\n\u001b[1;32m    141\u001b[0m             \u001b[0mchunkname\u001b[0m \u001b[0;34m=\u001b[0m \u001b[0mchunk\u001b[0m\u001b[0;34m.\u001b[0m\u001b[0mgetname\u001b[0m\u001b[0;34m(\u001b[0m\u001b[0;34m)\u001b[0m\u001b[0;34m\u001b[0m\u001b[0;34m\u001b[0m\u001b[0m\n\u001b[1;32m    142\u001b[0m             \u001b[0;32mif\u001b[0m \u001b[0mchunkname\u001b[0m \u001b[0;34m==\u001b[0m \u001b[0;34mb'fmt '\u001b[0m\u001b[0;34m:\u001b[0m\u001b[0;34m\u001b[0m\u001b[0;34m\u001b[0m\u001b[0m\n\u001b[0;32m--> 143\u001b[0;31m                 \u001b[0mself\u001b[0m\u001b[0;34m.\u001b[0m\u001b[0m_read_fmt_chunk\u001b[0m\u001b[0;34m(\u001b[0m\u001b[0mchunk\u001b[0m\u001b[0;34m)\u001b[0m\u001b[0;34m\u001b[0m\u001b[0;34m\u001b[0m\u001b[0m\n\u001b[0m\u001b[1;32m    144\u001b[0m                 \u001b[0mself\u001b[0m\u001b[0;34m.\u001b[0m\u001b[0m_fmt_chunk_read\u001b[0m \u001b[0;34m=\u001b[0m \u001b[0;36m1\u001b[0m\u001b[0;34m\u001b[0m\u001b[0;34m\u001b[0m\u001b[0m\n\u001b[1;32m    145\u001b[0m             \u001b[0;32melif\u001b[0m \u001b[0mchunkname\u001b[0m \u001b[0;34m==\u001b[0m \u001b[0;34mb'data'\u001b[0m\u001b[0;34m:\u001b[0m\u001b[0;34m\u001b[0m\u001b[0;34m\u001b[0m\u001b[0m\n",
      "\u001b[0;32m~/dev/anaconda3/lib/python3.9/wave.py\u001b[0m in \u001b[0;36m_read_fmt_chunk\u001b[0;34m(self, chunk)\u001b[0m\n\u001b[1;32m    266\u001b[0m                 \u001b[0;32mraise\u001b[0m \u001b[0mError\u001b[0m\u001b[0;34m(\u001b[0m\u001b[0;34m'bad sample width'\u001b[0m\u001b[0;34m)\u001b[0m\u001b[0;34m\u001b[0m\u001b[0;34m\u001b[0m\u001b[0m\n\u001b[1;32m    267\u001b[0m         \u001b[0;32melse\u001b[0m\u001b[0;34m:\u001b[0m\u001b[0;34m\u001b[0m\u001b[0;34m\u001b[0m\u001b[0m\n\u001b[0;32m--> 268\u001b[0;31m             \u001b[0;32mraise\u001b[0m \u001b[0mError\u001b[0m\u001b[0;34m(\u001b[0m\u001b[0;34m'unknown format: %r'\u001b[0m \u001b[0;34m%\u001b[0m \u001b[0;34m(\u001b[0m\u001b[0mwFormatTag\u001b[0m\u001b[0;34m,\u001b[0m\u001b[0;34m)\u001b[0m\u001b[0;34m)\u001b[0m\u001b[0;34m\u001b[0m\u001b[0;34m\u001b[0m\u001b[0m\n\u001b[0m\u001b[1;32m    269\u001b[0m         \u001b[0;32mif\u001b[0m \u001b[0;32mnot\u001b[0m \u001b[0mself\u001b[0m\u001b[0;34m.\u001b[0m\u001b[0m_nchannels\u001b[0m\u001b[0;34m:\u001b[0m\u001b[0;34m\u001b[0m\u001b[0;34m\u001b[0m\u001b[0m\n\u001b[1;32m    270\u001b[0m             \u001b[0;32mraise\u001b[0m \u001b[0mError\u001b[0m\u001b[0;34m(\u001b[0m\u001b[0;34m'bad # of channels'\u001b[0m\u001b[0;34m)\u001b[0m\u001b[0;34m\u001b[0m\u001b[0;34m\u001b[0m\u001b[0m\n",
      "\u001b[0;31mError\u001b[0m: unknown format: 3"
     ]
    }
   ],
   "source": [
    "wav_in_file = wave.Wave_read('/home/jeevan/Jeevan_K/Projects/Asquire/Vowtiar-Quest/vowtiar-formant_estimation/audio_exports/vowlim10/ux_291_FTBW0_F_190.wav')\n",
    "\n",
    "wav_in_num_samples = wav_in_file.getnframes()\n",
    "N = wav_in_file.getnframes()\n",
    "dstr = wav_in_file.readframes(N)\n",
    "data = np.fromstring(dstr, np.int16)"
   ]
  },
  {
   "cell_type": "code",
   "execution_count": 2,
   "metadata": {},
   "outputs": [],
   "source": [
    "df = pd.read_csv(\"/home/jeevan/Desktop/Jeevan_K/Projects/Asquire/Vowtiar-Quest/vowtiar-formant_estimation/exports/e_synth-vowels_formant_estimation_vowlim10.csv\")"
   ]
  },
  {
   "cell_type": "code",
   "execution_count": 3,
   "metadata": {},
   "outputs": [],
   "source": [
    "vowels = list(set(df[\"vowel_name\"].tolist()))\n",
    "genders = list(set(df[\"sex\"].tolist()))"
   ]
  },
  {
   "cell_type": "code",
   "execution_count": 6,
   "metadata": {},
   "outputs": [],
   "source": [
    "metrics_dict = {\n",
    "    \"vowel_name\": [],\n",
    "    \"sex\": [],\n",
    "    \"F1_praat_rms\": [],\n",
    "    \"F2_praat_rms\": [],\n",
    "    \"F3_praat_rms\": [],\n",
    "    \"F1_deepformant_rms\": [],\n",
    "    \"F2_deepformant_rms\": [],\n",
    "    \"F3_deepformant_rms\": [],\n",
    "\n",
    "}\n",
    "\n",
    "for vowel in vowels:\n",
    "    for gender in genders:\n",
    "        f1_gt = df[(df[\"vowel_name\"] == vowel) & (df[\"sex\"] == gender)][\"F1_mean_praat_base\"]\n",
    "        f2_gt = df[(df[\"vowel_name\"] == vowel) & (df[\"sex\"] == gender)][\"F2_mean_praat_base\"]\n",
    "        f3_gt = df[(df[\"vowel_name\"] == vowel) & (df[\"sex\"] == gender)][\"F3_mean_praat_base\"]\n",
    "\n",
    "        f1_praat = df[(df[\"vowel_name\"] == vowel) & (df[\"sex\"] == gender)][\"F1_mean_synthvow_praat\"]\n",
    "        f2_praat = df[(df[\"vowel_name\"] == vowel) & (df[\"sex\"] == gender)][\"F2_mean_synthvow_praat\"]\n",
    "        f3_praat = df[(df[\"vowel_name\"] == vowel) & (df[\"sex\"] == gender)][\"F3_mean_synthvow_praat\"]\n",
    "\n",
    "        f1_deep = df[(df[\"vowel_name\"] == vowel) & (df[\"sex\"] == gender)][\"F1_mean_synthvow_deepformant\"]\n",
    "        f2_deep = df[(df[\"vowel_name\"] == vowel) & (df[\"sex\"] == gender)][\"F2_mean_synthvow_deepformant\"]\n",
    "        f3_deep = df[(df[\"vowel_name\"] == vowel) & (df[\"sex\"] == gender)][\"F3_mean_synthvow_deepformant\"]\n",
    "\n",
    "        metrics_dict[\"vowel_name\"].append(vowel)\n",
    "        metrics_dict[\"sex\"].append(gender)\n",
    "        metrics_dict[\"F1_praat_rms\"].append(metrics.mean_squared_error(f1_gt, f1_praat, squared=False))\n",
    "        metrics_dict[\"F2_praat_rms\"].append(metrics.mean_squared_error(f2_gt, f2_praat, squared=False))\n",
    "        metrics_dict[\"F3_praat_rms\"].append(metrics.mean_squared_error(f3_gt, f3_praat, squared=False))\n",
    "\n",
    "        metrics_dict[\"F1_deepformant_rms\"].append(metrics.mean_squared_error(f1_gt, f1_deep, squared=False))\n",
    "        metrics_dict[\"F2_deepformant_rms\"].append(metrics.mean_squared_error(f2_gt, f2_deep, squared=False))\n",
    "        metrics_dict[\"F3_deepformant_rms\"].append(metrics.mean_squared_error(f3_gt, f3_deep, squared=False))\n",
    "\n",
    "\n",
    "df_metrics = pd.DataFrame(metrics_dict)\n",
    "\n",
    "        \n",
    "\n"
   ]
  },
  {
   "cell_type": "code",
   "execution_count": 7,
   "metadata": {},
   "outputs": [],
   "source": [
    "df_metrics.to_csv(\"/home/jeevan/Desktop/Jeevan_K/Projects/Asquire/Vowtiar-Quest/vowtiar-formant_estimation/exports/e_synth-vowels_metrics.csv\", index=False)"
   ]
  },
  {
   "cell_type": "code",
   "execution_count": null,
   "metadata": {},
   "outputs": [],
   "source": []
  }
 ],
 "metadata": {
  "kernelspec": {
   "display_name": "Python 3.9.7 ('base')",
   "language": "python",
   "name": "python3"
  },
  "language_info": {
   "codemirror_mode": {
    "name": "ipython",
    "version": 3
   },
   "file_extension": ".py",
   "mimetype": "text/x-python",
   "name": "python",
   "nbconvert_exporter": "python",
   "pygments_lexer": "ipython3",
   "version": "3.9.7"
  },
  "orig_nbformat": 4,
  "vscode": {
   "interpreter": {
    "hash": "85fb90aac59f57c94624cc69509cd9000efdbf1546001975143f0671c90158a0"
   }
  }
 },
 "nbformat": 4,
 "nbformat_minor": 2
}
